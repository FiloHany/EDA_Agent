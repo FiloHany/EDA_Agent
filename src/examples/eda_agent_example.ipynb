{
 "cells": [
  {
   "cell_type": "markdown",
   "id": "97d5d4d4",
   "metadata": {},
   "source": [
    "# Intelligent EDA Agent Tutorial\n",
    "This notebook demonstrates how to use the Intelligent EDA Agent for automated exploratory data analysis with interactive visualizations and Streamlit dashboard integration.\n",
    "\n",
    "## Features Covered\n",
    "- Basic EDA Agent usage\n",
    "- Interactive visualizations with Plotly\n",
    "- Streamlit dashboard integration\n",
    "- Custom analysis queries\n",
    "- Report generation and saving"
   ]
  },
  {
   "cell_type": "markdown",
   "id": "6ce3e751",
   "metadata": {},
   "source": [
    "## Setup and Installation\n",
    "First, let's install the required packages. Make sure you have Python 3.8+ installed."
   ]
  },
  {
   "cell_type": "code",
   "execution_count": null,
   "id": "ac507f79",
   "metadata": {},
   "outputs": [],
   "source": [
    "# Install required packages\n",
    "%pip install pandas numpy plotly streamlit langchain-core langchain-openai langchain-ollama"
   ]
  },
  {
   "cell_type": "markdown",
   "id": "12230633",
   "metadata": {},
   "source": [
    "## Load Example Dataset\n",
    "Let's load the Titanic dataset and initialize our EDA Agent."
   ]
  },
  {
   "cell_type": "code",
   "execution_count": null,
   "id": "b1d71e7b",
   "metadata": {},
   "outputs": [],
   "source": [
    "import os\n",
    "import sys\n",
    "from core.EDA.eda_agent import EDAAgent\n",
    "import streamlit as st\n",
    "import pandas as pd\n",
    "import numpy as np\n",
    "import plotly.express as px\n",
    "import plotly.graph_objects as go\n",
    "# Additional code for the notebook would go here"
   ]
  },
  {
   "cell_type": "code",
   "execution_count": null,
   "id": "268c4295",
   "metadata": {},
   "outputs": [],
   "source": [
    "# Load the Titanic dataset\n",
    "df = pd.read_csv('src/titanic.csv')\n",
    "print(f\"Dataset loaded: {df.shape[0]} rows × {df.shape[1]} columns\")\n",
    "\n",
    "# Initialize the EDA Agent\n",
    "agent = EDAAgent(df, use_openai=False)  # Set to True if you want to use OpenAI instead of Ollama"
   ]
  },
  {
   "cell_type": "markdown",
   "id": "b6fcb77e",
   "metadata": {},
   "source": [
    "## Basic EDA Agent Usage\n",
    "Let's start with some basic exploratory data analysis using the agent."
   ]
  },
  {
   "cell_type": "code",
   "execution_count": null,
   "id": "4b44ec80",
   "metadata": {},
   "outputs": [],
   "source": [
    "# Get dataset overview\n",
    "overview = agent.chat(\"Give me a dataset overview\")\n",
    "print(overview)\n",
    "\n",
    "# Check data quality\n",
    "quality = agent.chat(\"Check data quality and tell me about any issues\")\n",
    "print(quality)\n",
    "\n",
    "# Get automated insights\n",
    "insights = agent.chat(\"Give me automated insights about the dataset\")\n",
    "print(insights)"
   ]
  },
  {
   "cell_type": "markdown",
   "id": "ec1bd502",
   "metadata": {},
   "source": [
    "## Interactive Visualization with Plotly\n",
    "Let's create some interactive visualizations using Plotly based on the insights from our EDA Agent."
   ]
  },
  {
   "cell_type": "code",
   "execution_count": null,
   "id": "d6d337c4",
   "metadata": {},
   "outputs": [],
   "source": [
    "# Create survival rate by class visualization\n",
    "fig = px.bar(df.groupby('Pclass')['Survived'].mean().reset_index(), \n",
    "             x='Pclass', y='Survived', \n",
    "             title='Survival Rate by Passenger Class',\n",
    "             labels={'Survived': 'Survival Rate', 'Pclass': 'Passenger Class'})\n",
    "fig.show()\n",
    "\n",
    "# Age distribution by survival status\n",
    "fig = px.histogram(df, x='Age', color='Survived', \n",
    "                  nbins=30, opacity=0.7,\n",
    "                  title='Age Distribution by Survival Status',\n",
    "                  labels={'Survived': 'Survived'})\n",
    "fig.show()\n",
    "\n",
    "# Correlation heatmap for numeric columns\n",
    "numeric_cols = df.select_dtypes(include=[np.number]).columns\n",
    "fig = go.Figure(data=go.Heatmap(\n",
    "    z=df[numeric_cols].corr(),\n",
    "    x=numeric_cols,\n",
    "    y=numeric_cols,\n",
    "    colorscale='RdBu'))\n",
    "fig.update_layout(title='Correlation Heatmap')\n",
    "fig.show()"
   ]
  },
  {
   "cell_type": "markdown",
   "id": "829e9c8c",
   "metadata": {},
   "source": [
    "## Streamlit Dashboard Integration\n",
    "Here's how to create a Streamlit dashboard that uses our EDA Agent. Save this code in a file named `dashboard.py`:"
   ]
  },
  {
   "cell_type": "code",
   "execution_count": null,
   "id": "17a73082",
   "metadata": {},
   "outputs": [],
   "source": [
    "%%writefile src/dashboard.py\n",
    "import streamlit as st\n",
    "import pandas as pd\n",
    "import plotly.express as px\n",
    "from core.EDA.eda_agent import EDAAgent\n",
    "\n",
    "def main():\n",
    "    st.set_page_config(page_title=\"EDA Agent Dashboard\", layout=\"wide\")\n",
    "    st.title(\"🔍 Intelligent EDA Dashboard\")\n",
    "\n",
    "    # File upload\n",
    "    uploaded_file = st.file_uploader(\"Choose a CSV file\", type=\"csv\")\n",
    "    if uploaded_file is not None:\n",
    "        df = pd.read_csv(uploaded_file)\n",
    "        agent = EDAAgent(df)\n",
    "\n",
    "        # Sidebar controls\n",
    "        st.sidebar.title(\"Analysis Controls\")\n",
    "        analysis_type = st.sidebar.selectbox(\n",
    "            \"Choose Analysis\",\n",
    "            [\"Overview\", \"Data Quality\", \"Column Analysis\", \"Visualizations\", \"Custom Query\"]\n",
    "        )\n",
    "\n",
    "        if analysis_type == \"Overview\":\n",
    "            st.header(\"Dataset Overview\")\n",
    "            overview = agent.chat(\"Give me a dataset overview\")\n",
    "            st.write(overview)\n",
    "\n",
    "        elif analysis_type == \"Data Quality\":\n",
    "            st.header(\"Data Quality Report\")\n",
    "            quality = agent.chat(\"Check data quality\")\n",
    "            st.write(quality)\n",
    "\n",
    "        elif analysis_type == \"Column Analysis\":\n",
    "            st.header(\"Column Analysis\")\n",
    "            column = st.selectbox(\"Select Column\", df.columns)\n",
    "            analysis = agent.chat(f\"Analyze the {column} column\")\n",
    "            st.write(analysis)\n",
    "\n",
    "        elif analysis_type == \"Visualizations\":\n",
    "            st.header(\"Interactive Visualizations\")\n",
    "            viz_type = st.selectbox(\n",
    "                \"Select Visualization\",\n",
    "                [\"Distribution\", \"Correlation\", \"Custom\"]\n",
    "            )\n",
    "\n",
    "            if viz_type == \"Distribution\":\n",
    "                col = st.selectbox(\"Select Column\", df.select_dtypes(include=['number']).columns)\n",
    "                fig = px.histogram(df, x=col, title=f'Distribution of {col}')\n",
    "                st.plotly_chart(fig)\n",
    "\n",
    "            elif viz_type == \"Correlation\":\n",
    "                numeric_cols = df.select_dtypes(include=['number']).columns\n",
    "                fig = px.imshow(df[numeric_cols].corr(),\n",
    "                              title='Correlation Heatmap')\n",
    "                st.plotly_chart(fig)\n",
    "\n",
    "        else:\n",
    "            st.header(\"Custom Query\")\n",
    "            query = st.text_area(\"Enter your analysis question:\")\n",
    "            if st.button(\"Analyze\"):\n",
    "                response = agent.chat(query)\n",
    "                st.write(response)\n",
    "\n",
    "        # Save report button\n",
    "        if st.sidebar.button(\"Generate Report\"):\n",
    "            report = agent.generate_automatic_eda()\n",
    "            st.sidebar.download_button(\n",
    "                \"Download Report\",\n",
    "                report,\n",
    "                file_name=\"eda_report.md\",\n",
    "                mime=\"text/markdown\"\n",
    "            )\n",
    "\n",
    "if __name__ == \"__main__\":\n",
    "    main()"
   ]
  },
  {
   "cell_type": "markdown",
   "id": "faac64d7",
   "metadata": {},
   "source": [
    "To run the dashboard:\n",
    "```bash\n",
    "streamlit run src/dashboard.py\n",
    "```\n",
    "\n",
    "## Custom Queries and Analysis\n",
    "Let's look at some example custom queries we can ask our EDA Agent."
   ]
  },
  {
   "cell_type": "code",
   "execution_count": null,
   "id": "8cb69efe",
   "metadata": {},
   "outputs": [],
   "source": [
    "# Example custom queries\n",
    "queries = [\n",
    "    \"What's the survival rate by gender?\",\n",
    "    \"Show me the correlation between age and fare\",\n",
    "    \"Which features have the most missing values?\",\n",
    "    \"What's the age distribution by passenger class?\"\n",
    "]\n",
    "\n",
    "for query in queries:\n",
    "    print(f\"\\nQuery: {query}\")\n",
    "    print(\"-\" * 50)\n",
    "    response = agent.chat(query)\n",
    "    print(response)"
   ]
  },
  {
   "cell_type": "markdown",
   "id": "a3f9707c",
   "metadata": {},
   "source": [
    "## Saving Reports and Visualizations\n",
    "Let's generate and save a comprehensive EDA report, along with some visualizations."
   ]
  },
  {
   "cell_type": "code",
   "execution_count": null,
   "id": "849526e7",
   "metadata": {},
   "outputs": [],
   "source": [
    "# Generate and save the EDA report\n",
    "report = agent.generate_automatic_eda(save_path=\"reports/titanic_eda_report.md\")\n",
    "\n",
    "# Save some visualizations\n",
    "def save_visualization(fig, filename):\n",
    "    fig.write_html(f\"reports/visualizations/{filename}.html\")\n",
    "    fig.write_image(f\"reports/visualizations/{filename}.png\")\n",
    "\n",
    "# Create and save survival by class visualization\n",
    "fig = px.bar(df.groupby('Pclass')['Survived'].mean().reset_index(), \n",
    "             x='Pclass', y='Survived',\n",
    "             title='Survival Rate by Passenger Class')\n",
    "save_visualization(fig, \"survival_by_class\")\n",
    "\n",
    "# Create and save correlation heatmap\n",
    "numeric_cols = df.select_dtypes(include=[np.number]).columns\n",
    "fig = px.imshow(df[numeric_cols].corr(),\n",
    "                title='Correlation Heatmap')\n",
    "save_visualization(fig, \"correlation_heatmap\")"
   ]
  }
 ],
 "metadata": {
  "kernelspec": {
   "display_name": ".venv",
   "language": "python",
   "name": "python3"
  },
  "language_info": {
   "codemirror_mode": {
    "name": "ipython",
    "version": 3
   },
   "file_extension": ".py",
   "mimetype": "text/x-python",
   "name": "python",
   "nbconvert_exporter": "python",
   "pygments_lexer": "ipython3",
   "version": "3.12.3"
  }
 },
 "nbformat": 4,
 "nbformat_minor": 5
}
